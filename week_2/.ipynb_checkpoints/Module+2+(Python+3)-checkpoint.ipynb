{
 "cells": [
  {
   "cell_type": "markdown",
   "metadata": {},
   "source": [
    "# Module 2 (Python 3)"
   ]
  },
  {
   "cell_type": "markdown",
   "metadata": {},
   "source": [
    "## Basic NLP Tasks with NLTK"
   ]
  },
  {
   "cell_type": "code",
   "execution_count": 16,
   "metadata": {},
   "outputs": [
    {
     "name": "stdout",
     "output_type": "stream",
     "text": [
      "*** Introductory Examples for the NLTK Book ***\n",
      "Loading text1, ..., text9 and sent1, ..., sent9\n",
      "Type the name of the text or sentence to view it.\n",
      "Type: 'texts()' or 'sents()' to list the materials.\n",
      "text1: Moby Dick by Herman Melville 1851\n",
      "text2: Sense and Sensibility by Jane Austen 1811\n",
      "text3: The Book of Genesis\n",
      "text4: Inaugural Address Corpus\n",
      "text5: Chat Corpus\n",
      "text6: Monty Python and the Holy Grail\n",
      "text7: Wall Street Journal\n",
      "text8: Personals Corpus\n",
      "text9: The Man Who Was Thursday by G . K . Chesterton 1908\n"
     ]
    }
   ],
   "source": [
    "import nltk\n",
    "from nltk.book import *\n",
    "#nltk.download('book')"
   ]
  },
  {
   "cell_type": "markdown",
   "metadata": {},
   "source": [
    "### Counting vocabulary of words"
   ]
  },
  {
   "cell_type": "code",
   "execution_count": 17,
   "metadata": {},
   "outputs": [
    {
     "data": {
      "text/plain": [
       "<Text: Wall Street Journal>"
      ]
     },
     "execution_count": 17,
     "metadata": {},
     "output_type": "execute_result"
    }
   ],
   "source": [
    "text7"
   ]
  },
  {
   "cell_type": "code",
   "execution_count": 18,
   "metadata": {},
   "outputs": [
    {
     "data": {
      "text/plain": [
       "['Pierre',\n",
       " 'Vinken',\n",
       " ',',\n",
       " '61',\n",
       " 'years',\n",
       " 'old',\n",
       " ',',\n",
       " 'will',\n",
       " 'join',\n",
       " 'the',\n",
       " 'board',\n",
       " 'as',\n",
       " 'a',\n",
       " 'nonexecutive',\n",
       " 'director',\n",
       " 'Nov.',\n",
       " '29',\n",
       " '.',\n",
       " 'Mr.',\n",
       " 'Vinken',\n",
       " 'is',\n",
       " 'chairman',\n",
       " 'of',\n",
       " 'Elsevier',\n",
       " 'N.V.',\n",
       " ',',\n",
       " 'the',\n",
       " 'Dutch',\n",
       " 'publishing',\n",
       " 'group',\n",
       " '.',\n",
       " 'Rudolph',\n",
       " 'Agnew',\n",
       " ',',\n",
       " '55',\n",
       " 'years',\n",
       " 'old',\n",
       " 'and',\n",
       " 'former',\n",
       " 'chairman',\n",
       " 'of',\n",
       " 'Consolidated',\n",
       " 'Gold',\n",
       " 'Fields',\n",
       " 'PLC',\n",
       " ',',\n",
       " 'was',\n",
       " 'named',\n",
       " '*-1',\n",
       " 'a',\n",
       " 'nonexecutive',\n",
       " 'director',\n",
       " 'of',\n",
       " 'this',\n",
       " 'British',\n",
       " 'industrial',\n",
       " 'conglomerate',\n",
       " '.',\n",
       " 'A',\n",
       " 'form',\n",
       " 'of',\n",
       " 'asbestos',\n",
       " 'once',\n",
       " 'used',\n",
       " '*',\n",
       " '*',\n",
       " 'to',\n",
       " 'make',\n",
       " 'Kent',\n",
       " 'cigarette',\n",
       " 'filters',\n",
       " 'has',\n",
       " 'caused',\n",
       " 'a',\n",
       " 'high',\n",
       " 'percentage',\n",
       " 'of',\n",
       " 'cancer',\n",
       " 'deaths',\n",
       " 'among',\n",
       " 'a',\n",
       " 'group',\n",
       " 'of',\n",
       " 'workers',\n",
       " 'exposed',\n",
       " '*',\n",
       " 'to',\n",
       " 'it',\n",
       " 'more',\n",
       " 'than',\n",
       " '30',\n",
       " 'years',\n",
       " 'ago',\n",
       " ',',\n",
       " 'researchers',\n",
       " 'reported',\n",
       " '0',\n",
       " '*T*-1',\n",
       " '.',\n",
       " 'The',\n",
       " 'asbestos',\n",
       " 'fiber',\n",
       " ',',\n",
       " 'crocidolite',\n",
       " ',',\n",
       " 'is',\n",
       " 'unusually',\n",
       " 'resilient',\n",
       " 'once',\n",
       " 'it',\n",
       " 'enters',\n",
       " 'the',\n",
       " 'lungs',\n",
       " ',',\n",
       " 'with',\n",
       " 'even',\n",
       " 'brief',\n",
       " 'exposures',\n",
       " 'to',\n",
       " 'it',\n",
       " 'causing',\n",
       " 'symptoms',\n",
       " 'that',\n",
       " '*T*-1',\n",
       " 'show',\n",
       " 'up',\n",
       " 'decades',\n",
       " 'later',\n",
       " ',',\n",
       " 'researchers',\n",
       " 'said',\n",
       " '0',\n",
       " '*T*-2',\n",
       " '.',\n",
       " 'Lorillard',\n",
       " 'Inc.',\n",
       " ',',\n",
       " 'the',\n",
       " 'unit',\n",
       " 'of',\n",
       " 'New',\n",
       " 'York-based',\n",
       " 'Loews',\n",
       " 'Corp.',\n",
       " 'that',\n",
       " '*T*-2',\n",
       " 'makes',\n",
       " 'Kent',\n",
       " 'cigarettes',\n",
       " ',',\n",
       " 'stopped',\n",
       " 'using',\n",
       " 'crocidolite',\n",
       " 'in',\n",
       " 'its',\n",
       " 'Micronite',\n",
       " 'cigarette',\n",
       " 'filters',\n",
       " 'in',\n",
       " '1956',\n",
       " '.',\n",
       " 'Although',\n",
       " 'preliminary',\n",
       " 'findings',\n",
       " 'were',\n",
       " 'reported',\n",
       " '*-2',\n",
       " 'more',\n",
       " 'than',\n",
       " 'a',\n",
       " 'year',\n",
       " 'ago',\n",
       " ',',\n",
       " 'the',\n",
       " 'latest',\n",
       " 'results',\n",
       " 'appear',\n",
       " 'in',\n",
       " 'today',\n",
       " \"'s\",\n",
       " 'New',\n",
       " 'England',\n",
       " 'Journal',\n",
       " 'of',\n",
       " 'Medicine',\n",
       " ',',\n",
       " 'a',\n",
       " 'forum',\n",
       " 'likely',\n",
       " '*',\n",
       " 'to',\n",
       " 'bring',\n",
       " 'new',\n",
       " 'attention',\n",
       " 'to',\n",
       " 'the',\n",
       " 'problem',\n",
       " '.',\n",
       " 'A',\n",
       " 'Lorillard',\n",
       " 'spokewoman',\n",
       " 'said',\n",
       " ',',\n",
       " '``',\n",
       " 'This',\n",
       " 'is',\n",
       " 'an',\n",
       " 'old',\n",
       " 'story',\n",
       " '.',\n",
       " 'We',\n",
       " \"'re\",\n",
       " 'talking',\n",
       " 'about',\n",
       " 'years',\n",
       " 'ago',\n",
       " 'before',\n",
       " 'anyone',\n",
       " 'heard',\n",
       " 'of',\n",
       " 'asbestos',\n",
       " 'having',\n",
       " 'any',\n",
       " 'questionable',\n",
       " 'properties',\n",
       " '.',\n",
       " 'There',\n",
       " 'is',\n",
       " 'no',\n",
       " 'asbestos',\n",
       " 'in',\n",
       " 'our',\n",
       " 'products',\n",
       " 'now',\n",
       " '.',\n",
       " \"''\",\n",
       " 'Neither',\n",
       " 'Lorillard',\n",
       " 'nor',\n",
       " 'the',\n",
       " 'researchers',\n",
       " 'who',\n",
       " '*T*-3',\n",
       " 'studied',\n",
       " 'the',\n",
       " 'workers',\n",
       " 'were',\n",
       " 'aware',\n",
       " 'of',\n",
       " 'any',\n",
       " 'research',\n",
       " 'on',\n",
       " 'smokers',\n",
       " 'of',\n",
       " 'the',\n",
       " 'Kent',\n",
       " 'cigarettes',\n",
       " '.',\n",
       " '``',\n",
       " 'We',\n",
       " 'have',\n",
       " 'no',\n",
       " 'useful',\n",
       " 'information',\n",
       " 'on',\n",
       " 'whether',\n",
       " 'users',\n",
       " 'are',\n",
       " 'at',\n",
       " 'risk',\n",
       " ',',\n",
       " \"''\",\n",
       " 'said',\n",
       " '*T*-1',\n",
       " 'James',\n",
       " 'A.',\n",
       " 'Talcott',\n",
       " 'of',\n",
       " 'Boston',\n",
       " \"'s\",\n",
       " 'Dana-Farber',\n",
       " 'Cancer',\n",
       " 'Institute',\n",
       " '.',\n",
       " 'Dr.',\n",
       " 'Talcott',\n",
       " 'led',\n",
       " 'a',\n",
       " 'team',\n",
       " 'of',\n",
       " 'researchers',\n",
       " 'from',\n",
       " 'the',\n",
       " 'National',\n",
       " 'Cancer',\n",
       " 'Institute',\n",
       " 'and',\n",
       " 'the',\n",
       " 'medical',\n",
       " 'schools',\n",
       " 'of',\n",
       " 'Harvard',\n",
       " 'University',\n",
       " 'and',\n",
       " 'Boston',\n",
       " 'University',\n",
       " '.',\n",
       " 'The',\n",
       " 'Lorillard',\n",
       " 'spokeswoman',\n",
       " 'said',\n",
       " '0',\n",
       " 'asbestos',\n",
       " 'was',\n",
       " 'used',\n",
       " '*-1',\n",
       " 'in',\n",
       " '``',\n",
       " 'very',\n",
       " 'modest',\n",
       " 'amounts',\n",
       " \"''\",\n",
       " 'in',\n",
       " '*',\n",
       " 'making',\n",
       " 'paper',\n",
       " 'for',\n",
       " 'the',\n",
       " 'filters',\n",
       " 'in',\n",
       " 'the',\n",
       " 'early',\n",
       " '1950s',\n",
       " 'and',\n",
       " 'replaced',\n",
       " '*-1',\n",
       " 'with',\n",
       " 'a',\n",
       " 'different',\n",
       " 'type',\n",
       " 'of',\n",
       " 'filter',\n",
       " 'in',\n",
       " '1956',\n",
       " '.',\n",
       " 'From',\n",
       " '1953',\n",
       " 'to',\n",
       " '1955',\n",
       " ',',\n",
       " '9.8',\n",
       " 'billion',\n",
       " 'Kent',\n",
       " 'cigarettes',\n",
       " 'with',\n",
       " 'the',\n",
       " 'filters',\n",
       " 'were',\n",
       " 'sold',\n",
       " '*-3',\n",
       " ',',\n",
       " 'the',\n",
       " 'company',\n",
       " 'said',\n",
       " '0',\n",
       " '*T*-1',\n",
       " '.',\n",
       " 'Among',\n",
       " '33',\n",
       " 'men',\n",
       " 'who',\n",
       " '*T*-4',\n",
       " 'worked',\n",
       " 'closely',\n",
       " 'with',\n",
       " 'the',\n",
       " 'substance',\n",
       " ',',\n",
       " '28',\n",
       " '*ICH*-1',\n",
       " 'have',\n",
       " 'died',\n",
       " '--',\n",
       " 'more',\n",
       " 'than',\n",
       " 'three',\n",
       " 'times',\n",
       " 'the',\n",
       " 'expected',\n",
       " 'number',\n",
       " '.',\n",
       " 'Four',\n",
       " 'of',\n",
       " 'the',\n",
       " 'five',\n",
       " 'surviving',\n",
       " 'workers',\n",
       " 'have',\n",
       " 'asbestos-related',\n",
       " 'diseases',\n",
       " ',',\n",
       " 'including',\n",
       " 'three',\n",
       " 'with',\n",
       " 'recently',\n",
       " 'diagnosed',\n",
       " 'cancer',\n",
       " '.',\n",
       " 'The',\n",
       " 'total',\n",
       " 'of',\n",
       " '18',\n",
       " 'deaths',\n",
       " 'from',\n",
       " 'malignant',\n",
       " 'mesothelioma',\n",
       " ',',\n",
       " 'lung',\n",
       " 'cancer',\n",
       " 'and',\n",
       " 'asbestosis',\n",
       " 'was',\n",
       " 'far',\n",
       " 'higher',\n",
       " 'than',\n",
       " '*',\n",
       " 'expected',\n",
       " '*?*',\n",
       " ',',\n",
       " 'the',\n",
       " 'researchers',\n",
       " 'said',\n",
       " '0',\n",
       " '*T*-1',\n",
       " '.',\n",
       " '``',\n",
       " 'The',\n",
       " 'morbidity',\n",
       " 'rate',\n",
       " 'is',\n",
       " 'a',\n",
       " 'striking',\n",
       " 'finding',\n",
       " 'among',\n",
       " 'those',\n",
       " 'of',\n",
       " 'us',\n",
       " 'who',\n",
       " '*T*-5',\n",
       " 'study',\n",
       " 'asbestos-related',\n",
       " 'diseases',\n",
       " ',',\n",
       " \"''\",\n",
       " 'said',\n",
       " '*T*-1',\n",
       " 'Dr.',\n",
       " 'Talcott',\n",
       " '.',\n",
       " 'The',\n",
       " 'percentage',\n",
       " 'of',\n",
       " 'lung',\n",
       " 'cancer',\n",
       " 'deaths',\n",
       " 'among',\n",
       " 'the',\n",
       " 'workers',\n",
       " 'at',\n",
       " 'the',\n",
       " 'West',\n",
       " 'Groton',\n",
       " ',',\n",
       " 'Mass.',\n",
       " ',',\n",
       " 'paper',\n",
       " 'factory',\n",
       " 'appears',\n",
       " '*-1',\n",
       " 'to',\n",
       " 'be',\n",
       " 'the',\n",
       " 'highest',\n",
       " 'for',\n",
       " 'any',\n",
       " 'asbestos',\n",
       " 'workers',\n",
       " 'studied',\n",
       " '*',\n",
       " 'in',\n",
       " 'Western',\n",
       " 'industrialized',\n",
       " 'countries',\n",
       " ',',\n",
       " 'he',\n",
       " 'said',\n",
       " '0',\n",
       " '*T*-2',\n",
       " '.',\n",
       " 'The',\n",
       " 'plant',\n",
       " ',',\n",
       " 'which',\n",
       " '*T*-1',\n",
       " 'is',\n",
       " 'owned',\n",
       " '*-4',\n",
       " 'by',\n",
       " 'Hollingsworth',\n",
       " '&',\n",
       " 'Vose',\n",
       " 'Co.',\n",
       " ',',\n",
       " 'was',\n",
       " 'under',\n",
       " 'contract',\n",
       " '*ICH*-2',\n",
       " 'with',\n",
       " 'Lorillard',\n",
       " '*',\n",
       " 'to',\n",
       " 'make',\n",
       " 'the',\n",
       " 'cigarette',\n",
       " 'filters',\n",
       " '.',\n",
       " 'The',\n",
       " 'finding',\n",
       " 'probably',\n",
       " 'will',\n",
       " 'support',\n",
       " 'those',\n",
       " 'who',\n",
       " '*T*-6',\n",
       " 'argue',\n",
       " 'that',\n",
       " 'the',\n",
       " 'U.S.',\n",
       " 'should',\n",
       " 'regulate',\n",
       " 'the',\n",
       " 'class',\n",
       " 'of',\n",
       " 'asbestos',\n",
       " 'including',\n",
       " 'crocidolite',\n",
       " 'more',\n",
       " 'stringently',\n",
       " 'than',\n",
       " 'the',\n",
       " 'common',\n",
       " 'kind',\n",
       " 'of',\n",
       " 'asbestos',\n",
       " ',',\n",
       " 'chrysotile',\n",
       " ',',\n",
       " 'found',\n",
       " '*',\n",
       " 'in',\n",
       " 'most',\n",
       " 'schools',\n",
       " 'and',\n",
       " 'other',\n",
       " 'buildings',\n",
       " ',',\n",
       " 'Dr.',\n",
       " 'Talcott',\n",
       " 'said',\n",
       " '0',\n",
       " '*T*-1',\n",
       " '.',\n",
       " 'The',\n",
       " 'U.S.',\n",
       " 'is',\n",
       " 'one',\n",
       " 'of',\n",
       " 'the',\n",
       " 'few',\n",
       " 'industrialized',\n",
       " 'nations',\n",
       " 'that',\n",
       " '*T*-7',\n",
       " 'does',\n",
       " \"n't\",\n",
       " 'have',\n",
       " 'a',\n",
       " 'higher',\n",
       " 'standard',\n",
       " 'of',\n",
       " 'regulation',\n",
       " 'for',\n",
       " 'the',\n",
       " 'smooth',\n",
       " ',',\n",
       " 'needle-like',\n",
       " 'fibers',\n",
       " 'such',\n",
       " 'as',\n",
       " 'crocidolite',\n",
       " 'that',\n",
       " '*T*-1',\n",
       " 'are',\n",
       " 'classified',\n",
       " '*-5',\n",
       " 'as',\n",
       " 'amphobiles',\n",
       " ',',\n",
       " 'according',\n",
       " 'to',\n",
       " 'Brooke',\n",
       " 'T.',\n",
       " 'Mossman',\n",
       " ',',\n",
       " 'a',\n",
       " 'professor',\n",
       " 'of',\n",
       " 'pathlogy',\n",
       " 'at',\n",
       " 'the',\n",
       " 'University',\n",
       " 'of',\n",
       " 'Vermont',\n",
       " 'College',\n",
       " 'of',\n",
       " 'Medicine',\n",
       " '.',\n",
       " 'More',\n",
       " 'common',\n",
       " 'chrysotile',\n",
       " 'fibers',\n",
       " 'are',\n",
       " 'curly',\n",
       " 'and',\n",
       " 'are',\n",
       " 'more',\n",
       " 'easily',\n",
       " 'rejected',\n",
       " '*-1',\n",
       " 'by',\n",
       " 'the',\n",
       " 'body',\n",
       " ',',\n",
       " 'Dr.',\n",
       " 'Mossman',\n",
       " 'explained',\n",
       " '0',\n",
       " '*T*-2',\n",
       " '.',\n",
       " 'In',\n",
       " 'July',\n",
       " ',',\n",
       " 'the',\n",
       " 'Environmental',\n",
       " 'Protection',\n",
       " 'Agency',\n",
       " 'imposed',\n",
       " 'a',\n",
       " 'gradual',\n",
       " 'ban',\n",
       " 'on',\n",
       " 'virtually',\n",
       " 'all',\n",
       " 'uses',\n",
       " 'of',\n",
       " 'asbestos',\n",
       " '.',\n",
       " 'By',\n",
       " '1997',\n",
       " ',',\n",
       " 'almost',\n",
       " 'all',\n",
       " 'remaining',\n",
       " 'uses',\n",
       " 'of',\n",
       " 'cancer-causing',\n",
       " 'asbestos',\n",
       " 'will',\n",
       " 'be',\n",
       " 'outlawed',\n",
       " '*-6',\n",
       " '.',\n",
       " 'About',\n",
       " '160',\n",
       " 'workers',\n",
       " 'at',\n",
       " 'a',\n",
       " 'factory',\n",
       " 'that',\n",
       " '*T*-8',\n",
       " 'made',\n",
       " 'paper',\n",
       " 'for',\n",
       " 'the',\n",
       " 'Kent',\n",
       " 'filters',\n",
       " 'were',\n",
       " 'exposed',\n",
       " '*-7',\n",
       " 'to',\n",
       " 'asbestos',\n",
       " 'in',\n",
       " 'the',\n",
       " '1950s',\n",
       " '.',\n",
       " 'Areas',\n",
       " 'of',\n",
       " 'the',\n",
       " 'factory',\n",
       " '*ICH*-2',\n",
       " 'were',\n",
       " 'particularly',\n",
       " 'dusty',\n",
       " 'where',\n",
       " 'the',\n",
       " 'crocidolite',\n",
       " 'was',\n",
       " 'used',\n",
       " '*-8',\n",
       " '*T*-1',\n",
       " '.',\n",
       " 'Workers',\n",
       " 'dumped',\n",
       " 'large',\n",
       " 'burlap',\n",
       " 'sacks',\n",
       " 'of',\n",
       " 'the',\n",
       " 'imported',\n",
       " 'material',\n",
       " 'into',\n",
       " 'a',\n",
       " 'huge',\n",
       " 'bin',\n",
       " ',',\n",
       " 'poured',\n",
       " 'in',\n",
       " 'cotton',\n",
       " 'and',\n",
       " 'acetate',\n",
       " 'fibers',\n",
       " 'and',\n",
       " 'mechanically',\n",
       " 'mixed',\n",
       " 'the',\n",
       " 'dry',\n",
       " 'fibers',\n",
       " 'in',\n",
       " 'a',\n",
       " 'process',\n",
       " 'used',\n",
       " '*',\n",
       " '*',\n",
       " 'to',\n",
       " 'make',\n",
       " 'filters',\n",
       " '.',\n",
       " 'Workers',\n",
       " 'described',\n",
       " '``',\n",
       " 'clouds',\n",
       " 'of',\n",
       " 'blue',\n",
       " 'dust',\n",
       " \"''\",\n",
       " 'that',\n",
       " '*T*-1',\n",
       " 'hung',\n",
       " 'over',\n",
       " 'parts',\n",
       " 'of',\n",
       " 'the',\n",
       " 'factory',\n",
       " ',',\n",
       " 'even',\n",
       " 'though',\n",
       " 'exhaust',\n",
       " 'fans',\n",
       " 'ventilated',\n",
       " 'the',\n",
       " 'area',\n",
       " '.',\n",
       " '``',\n",
       " 'There',\n",
       " \"'s\",\n",
       " 'no',\n",
       " 'question',\n",
       " 'that',\n",
       " 'some',\n",
       " 'of',\n",
       " 'those',\n",
       " 'workers',\n",
       " 'and',\n",
       " 'managers',\n",
       " 'contracted',\n",
       " 'asbestos-related',\n",
       " 'diseases',\n",
       " ',',\n",
       " \"''\",\n",
       " 'said',\n",
       " '*T*-1',\n",
       " 'Darrell',\n",
       " 'Phillips',\n",
       " ',',\n",
       " 'vice',\n",
       " 'president',\n",
       " 'of',\n",
       " 'human',\n",
       " 'resources',\n",
       " 'for',\n",
       " 'Hollingsworth',\n",
       " '&',\n",
       " 'Vose',\n",
       " '.',\n",
       " '``',\n",
       " 'But',\n",
       " 'you',\n",
       " 'have',\n",
       " '*-1',\n",
       " 'to',\n",
       " 'recognize',\n",
       " 'that',\n",
       " 'these',\n",
       " 'events',\n",
       " 'took',\n",
       " 'place',\n",
       " '35',\n",
       " 'years',\n",
       " 'ago',\n",
       " '.',\n",
       " 'It',\n",
       " 'has',\n",
       " 'no',\n",
       " 'bearing',\n",
       " 'on',\n",
       " 'our',\n",
       " 'work',\n",
       " 'force',\n",
       " 'today',\n",
       " '.',\n",
       " 'Yields',\n",
       " 'on',\n",
       " 'money-market',\n",
       " 'mutual',\n",
       " 'funds',\n",
       " 'continued',\n",
       " '*-1',\n",
       " 'to',\n",
       " 'slide',\n",
       " ',',\n",
       " 'amid',\n",
       " 'signs',\n",
       " 'that',\n",
       " 'portfolio',\n",
       " 'managers',\n",
       " 'expect',\n",
       " 'further',\n",
       " 'declines',\n",
       " 'in',\n",
       " 'interest',\n",
       " 'rates',\n",
       " '.',\n",
       " 'The',\n",
       " 'average',\n",
       " 'seven-day',\n",
       " 'compound',\n",
       " 'yield',\n",
       " 'of',\n",
       " 'the',\n",
       " '400',\n",
       " 'taxable',\n",
       " 'funds',\n",
       " 'tracked',\n",
       " '*',\n",
       " 'by',\n",
       " 'IBC',\n",
       " \"'s\",\n",
       " 'Money',\n",
       " 'Fund',\n",
       " 'Report',\n",
       " 'eased',\n",
       " 'a',\n",
       " 'fraction',\n",
       " 'of',\n",
       " 'a',\n",
       " 'percentage',\n",
       " 'point',\n",
       " 'to',\n",
       " '8.45',\n",
       " '%',\n",
       " 'from',\n",
       " '8.47',\n",
       " '%',\n",
       " 'for',\n",
       " 'the',\n",
       " 'week',\n",
       " 'ended',\n",
       " 'Tuesday',\n",
       " '.',\n",
       " 'Compound',\n",
       " 'yields',\n",
       " 'assume',\n",
       " 'reinvestment',\n",
       " 'of',\n",
       " 'dividends',\n",
       " 'and',\n",
       " 'that',\n",
       " 'the',\n",
       " 'current',\n",
       " 'yield',\n",
       " 'continues',\n",
       " 'for',\n",
       " 'a',\n",
       " 'year',\n",
       " '.',\n",
       " 'Average',\n",
       " 'maturity',\n",
       " 'of',\n",
       " 'the',\n",
       " 'funds',\n",
       " \"'\",\n",
       " 'investments',\n",
       " 'lengthened',\n",
       " 'by',\n",
       " 'a',\n",
       " 'day',\n",
       " 'to',\n",
       " '41',\n",
       " 'days',\n",
       " ',',\n",
       " 'the',\n",
       " 'longest',\n",
       " 'since',\n",
       " 'early',\n",
       " 'August',\n",
       " ',',\n",
       " 'according',\n",
       " 'to',\n",
       " 'Donoghue',\n",
       " \"'s\",\n",
       " '.',\n",
       " 'Longer',\n",
       " 'maturities',\n",
       " 'are',\n",
       " 'thought',\n",
       " '*-1',\n",
       " 'to',\n",
       " 'indicate',\n",
       " 'declining',\n",
       " 'interest',\n",
       " 'rates',\n",
       " 'because',\n",
       " 'they',\n",
       " 'permit',\n",
       " 'portfolio',\n",
       " 'managers',\n",
       " 'to',\n",
       " 'retain',\n",
       " 'relatively',\n",
       " 'higher',\n",
       " 'rates',\n",
       " 'for',\n",
       " 'a',\n",
       " 'longer',\n",
       " 'period',\n",
       " '.',\n",
       " 'Shorter',\n",
       " 'maturities',\n",
       " 'are',\n",
       " 'considered',\n",
       " '*-9',\n",
       " 'a',\n",
       " 'sign',\n",
       " 'of',\n",
       " 'rising',\n",
       " 'rates',\n",
       " 'because',\n",
       " 'portfolio',\n",
       " 'managers',\n",
       " 'can',\n",
       " 'capture',\n",
       " 'higher',\n",
       " 'rates',\n",
       " 'sooner',\n",
       " '.',\n",
       " 'The',\n",
       " 'average',\n",
       " 'maturity',\n",
       " 'for',\n",
       " 'funds',\n",
       " 'open',\n",
       " 'only',\n",
       " 'to',\n",
       " 'institutions',\n",
       " ',',\n",
       " 'considered',\n",
       " 'by',\n",
       " 'some',\n",
       " '*',\n",
       " 'to',\n",
       " ...]"
      ]
     },
     "execution_count": 18,
     "metadata": {},
     "output_type": "execute_result"
    }
   ],
   "source": [
    "list(text7)"
   ]
  },
  {
   "cell_type": "code",
   "execution_count": 19,
   "metadata": {},
   "outputs": [
    {
     "name": "stdout",
     "output_type": "stream",
     "text": [
      "sent1: Call me Ishmael .\n",
      "sent2: The family of Dashwood had long been settled in Sussex .\n",
      "sent3: In the beginning God created the heaven and the earth .\n",
      "sent4: Fellow - Citizens of the Senate and of the House of Representatives :\n",
      "sent5: I have a problem with people PMing me to lol JOIN\n",
      "sent6: SCENE 1 : [ wind ] [ clop clop clop ] KING ARTHUR : Whoa there !\n",
      "sent7: Pierre Vinken , 61 years old , will join the board as a nonexecutive director Nov. 29 .\n",
      "sent8: 25 SEXY MALE , seeks attrac older single lady , for discreet encounters .\n",
      "sent9: THE suburb of Saffron Park lay on the sunset side of London , as red and ragged as a cloud of sunset .\n"
     ]
    }
   ],
   "source": [
    "sents()"
   ]
  },
  {
   "cell_type": "code",
   "execution_count": 20,
   "metadata": {},
   "outputs": [
    {
     "data": {
      "text/plain": [
       "['Pierre',\n",
       " 'Vinken',\n",
       " ',',\n",
       " '61',\n",
       " 'years',\n",
       " 'old',\n",
       " ',',\n",
       " 'will',\n",
       " 'join',\n",
       " 'the',\n",
       " 'board',\n",
       " 'as',\n",
       " 'a',\n",
       " 'nonexecutive',\n",
       " 'director',\n",
       " 'Nov.',\n",
       " '29',\n",
       " '.']"
      ]
     },
     "execution_count": 20,
     "metadata": {},
     "output_type": "execute_result"
    }
   ],
   "source": [
    "sent7"
   ]
  },
  {
   "cell_type": "code",
   "execution_count": 21,
   "metadata": {},
   "outputs": [
    {
     "data": {
      "text/plain": [
       "18"
      ]
     },
     "execution_count": 21,
     "metadata": {},
     "output_type": "execute_result"
    }
   ],
   "source": [
    "len(sent7)"
   ]
  },
  {
   "cell_type": "code",
   "execution_count": 22,
   "metadata": {},
   "outputs": [
    {
     "data": {
      "text/plain": [
       "100676"
      ]
     },
     "execution_count": 22,
     "metadata": {},
     "output_type": "execute_result"
    }
   ],
   "source": [
    "len(text7)"
   ]
  },
  {
   "cell_type": "code",
   "execution_count": 14,
   "metadata": {},
   "outputs": [
    {
     "data": {
      "text/plain": [
       "12408"
      ]
     },
     "execution_count": 14,
     "metadata": {},
     "output_type": "execute_result"
    }
   ],
   "source": [
    "len(set(text7))"
   ]
  },
  {
   "cell_type": "code",
   "execution_count": 15,
   "metadata": {},
   "outputs": [
    {
     "data": {
      "text/plain": [
       "['will',\n",
       " 'Albert',\n",
       " 'consented',\n",
       " 'different',\n",
       " '1.125',\n",
       " 'gauge',\n",
       " 'meeting',\n",
       " '*-98',\n",
       " '150.00',\n",
       " 'allowed']"
      ]
     },
     "execution_count": 15,
     "metadata": {},
     "output_type": "execute_result"
    }
   ],
   "source": [
    "list(set(text7))[:10]"
   ]
  },
  {
   "cell_type": "markdown",
   "metadata": {},
   "source": [
    "### Frequency of words"
   ]
  },
  {
   "cell_type": "code",
   "execution_count": 23,
   "metadata": {},
   "outputs": [
    {
     "data": {
      "text/plain": [
       "12408"
      ]
     },
     "execution_count": 23,
     "metadata": {},
     "output_type": "execute_result"
    }
   ],
   "source": [
    "dist = FreqDist(text7)\n",
    "len(dist)"
   ]
  },
  {
   "cell_type": "code",
   "execution_count": 24,
   "metadata": {},
   "outputs": [
    {
     "data": {
      "text/plain": [
       "['Pierre', 'Vinken', ',', '61', 'years', 'old', 'will', 'join', 'the', 'board']"
      ]
     },
     "execution_count": 24,
     "metadata": {},
     "output_type": "execute_result"
    }
   ],
   "source": [
    "vocab1 = dist.keys()\n",
    "#vocab1[:10] \n",
    "# In Python 3 dict.keys() returns an iterable view instead of a list\n",
    "list(vocab1)[:10]"
   ]
  },
  {
   "cell_type": "code",
   "execution_count": 25,
   "metadata": {},
   "outputs": [
    {
     "data": {
      "text/plain": [
       "20"
      ]
     },
     "execution_count": 25,
     "metadata": {},
     "output_type": "execute_result"
    }
   ],
   "source": [
    "dist['four']"
   ]
  },
  {
   "cell_type": "code",
   "execution_count": 26,
   "metadata": {},
   "outputs": [
    {
     "data": {
      "text/plain": [
       "['billion',\n",
       " 'company',\n",
       " 'president',\n",
       " 'because',\n",
       " 'market',\n",
       " 'million',\n",
       " 'shares',\n",
       " 'trading',\n",
       " 'program']"
      ]
     },
     "execution_count": 26,
     "metadata": {},
     "output_type": "execute_result"
    }
   ],
   "source": [
    "freqwords = [w for w in vocab1 if len(w) > 5 and dist[w] > 100]\n",
    "freqwords"
   ]
  },
  {
   "cell_type": "markdown",
   "metadata": {},
   "source": [
    "### Normalization and stemming"
   ]
  },
  {
   "cell_type": "code",
   "execution_count": 27,
   "metadata": {},
   "outputs": [
    {
     "data": {
      "text/plain": [
       "['list', 'listed', 'lists', 'listing', 'listings']"
      ]
     },
     "execution_count": 27,
     "metadata": {},
     "output_type": "execute_result"
    }
   ],
   "source": [
    "input1 = \"List listed lists listing listings\"\n",
    "words1 = input1.lower().split(' ')\n",
    "words1"
   ]
  },
  {
   "cell_type": "code",
   "execution_count": 28,
   "metadata": {},
   "outputs": [
    {
     "data": {
      "text/plain": [
       "['list', 'list', 'list', 'list', 'list']"
      ]
     },
     "execution_count": 28,
     "metadata": {},
     "output_type": "execute_result"
    }
   ],
   "source": [
    "porter = nltk.PorterStemmer()\n",
    "[porter.stem(t) for t in words1]"
   ]
  },
  {
   "cell_type": "markdown",
   "metadata": {},
   "source": [
    "### Lemmatization"
   ]
  },
  {
   "cell_type": "code",
   "execution_count": 29,
   "metadata": {},
   "outputs": [
    {
     "data": {
      "text/plain": [
       "['Universal',\n",
       " 'Declaration',\n",
       " 'of',\n",
       " 'Human',\n",
       " 'Rights',\n",
       " 'Preamble',\n",
       " 'Whereas',\n",
       " 'recognition',\n",
       " 'of',\n",
       " 'the',\n",
       " 'inherent',\n",
       " 'dignity',\n",
       " 'and',\n",
       " 'of',\n",
       " 'the',\n",
       " 'equal',\n",
       " 'and',\n",
       " 'inalienable',\n",
       " 'rights',\n",
       " 'of']"
      ]
     },
     "execution_count": 29,
     "metadata": {},
     "output_type": "execute_result"
    }
   ],
   "source": [
    "udhr = nltk.corpus.udhr.words('English-Latin1')\n",
    "udhr[:20]"
   ]
  },
  {
   "cell_type": "code",
   "execution_count": 30,
   "metadata": {},
   "outputs": [
    {
     "data": {
      "text/plain": [
       "['univers',\n",
       " 'declar',\n",
       " 'of',\n",
       " 'human',\n",
       " 'right',\n",
       " 'preambl',\n",
       " 'wherea',\n",
       " 'recognit',\n",
       " 'of',\n",
       " 'the',\n",
       " 'inher',\n",
       " 'digniti',\n",
       " 'and',\n",
       " 'of',\n",
       " 'the',\n",
       " 'equal',\n",
       " 'and',\n",
       " 'inalien',\n",
       " 'right',\n",
       " 'of']"
      ]
     },
     "execution_count": 30,
     "metadata": {},
     "output_type": "execute_result"
    }
   ],
   "source": [
    "[porter.stem(t) for t in udhr[:20]] # Still Lemmatization"
   ]
  },
  {
   "cell_type": "code",
   "execution_count": 29,
   "metadata": {},
   "outputs": [
    {
     "data": {
      "text/plain": [
       "['Universal',\n",
       " 'Declaration',\n",
       " 'of',\n",
       " 'Human',\n",
       " 'Rights',\n",
       " 'Preamble',\n",
       " 'Whereas',\n",
       " 'recognition',\n",
       " 'of',\n",
       " 'the',\n",
       " 'inherent',\n",
       " 'dignity',\n",
       " 'and',\n",
       " 'of',\n",
       " 'the',\n",
       " 'equal',\n",
       " 'and',\n",
       " 'inalienable',\n",
       " 'right',\n",
       " 'of']"
      ]
     },
     "execution_count": 29,
     "metadata": {},
     "output_type": "execute_result"
    }
   ],
   "source": [
    "WNlemma = nltk.WordNetLemmatizer()\n",
    "[WNlemma.lemmatize(t) for t in udhr[:20]]"
   ]
  },
  {
   "cell_type": "markdown",
   "metadata": {},
   "source": [
    "### Tokenization"
   ]
  },
  {
   "cell_type": "code",
   "execution_count": 36,
   "metadata": {},
   "outputs": [
    {
     "data": {
      "text/plain": [
       "['Children', \"shouldn't\", 'drink', 'a', 'sugary', 'drink', 'before', 'bed.']"
      ]
     },
     "execution_count": 36,
     "metadata": {},
     "output_type": "execute_result"
    }
   ],
   "source": [
    "text11 = \"Children shouldn't drink a sugary drink before bed.\"\n",
    "text11.split(' ')"
   ]
  },
  {
   "cell_type": "code",
   "execution_count": 37,
   "metadata": {},
   "outputs": [
    {
     "data": {
      "text/plain": [
       "['Children',\n",
       " 'should',\n",
       " \"n't\",\n",
       " 'drink',\n",
       " 'a',\n",
       " 'sugary',\n",
       " 'drink',\n",
       " 'before',\n",
       " 'bed',\n",
       " '.']"
      ]
     },
     "execution_count": 37,
     "metadata": {},
     "output_type": "execute_result"
    }
   ],
   "source": [
    "nltk.word_tokenize(text11)"
   ]
  },
  {
   "cell_type": "code",
   "execution_count": 38,
   "metadata": {},
   "outputs": [
    {
     "data": {
      "text/plain": [
       "4"
      ]
     },
     "execution_count": 38,
     "metadata": {},
     "output_type": "execute_result"
    }
   ],
   "source": [
    "text12 = \"This is the first sentence. A gallon of milk in the U.S. costs $2.99. Is this the third sentence? Yes, it is!\"\n",
    "sentences = nltk.sent_tokenize(text12)\n",
    "len(sentences)"
   ]
  },
  {
   "cell_type": "code",
   "execution_count": 39,
   "metadata": {},
   "outputs": [
    {
     "data": {
      "text/plain": [
       "['This is the first sentence.',\n",
       " 'A gallon of milk in the U.S. costs $2.99.',\n",
       " 'Is this the third sentence?',\n",
       " 'Yes, it is!']"
      ]
     },
     "execution_count": 39,
     "metadata": {},
     "output_type": "execute_result"
    }
   ],
   "source": [
    "sentences"
   ]
  },
  {
   "cell_type": "markdown",
   "metadata": {},
   "source": [
    "## Advanced NLP Tasks with NLTK"
   ]
  },
  {
   "cell_type": "markdown",
   "metadata": {},
   "source": [
    "### POS tagging"
   ]
  },
  {
   "cell_type": "code",
   "execution_count": 31,
   "metadata": {},
   "outputs": [
    {
     "name": "stdout",
     "output_type": "stream",
     "text": [
      "MD: modal auxiliary\n",
      "    can cannot could couldn't dare may might must need ought shall should\n",
      "    shouldn't will would\n"
     ]
    }
   ],
   "source": [
    "nltk.help.upenn_tagset('MD')"
   ]
  },
  {
   "cell_type": "code",
   "execution_count": 40,
   "metadata": {},
   "outputs": [
    {
     "data": {
      "text/plain": [
       "[('Children', 'NNP'),\n",
       " ('should', 'MD'),\n",
       " (\"n't\", 'RB'),\n",
       " ('drink', 'VB'),\n",
       " ('a', 'DT'),\n",
       " ('sugary', 'JJ'),\n",
       " ('drink', 'NN'),\n",
       " ('before', 'IN'),\n",
       " ('bed', 'NN'),\n",
       " ('.', '.')]"
      ]
     },
     "execution_count": 40,
     "metadata": {},
     "output_type": "execute_result"
    }
   ],
   "source": [
    "text13 = nltk.word_tokenize(text11)\n",
    "nltk.pos_tag(text13)"
   ]
  },
  {
   "cell_type": "code",
   "execution_count": 41,
   "metadata": {},
   "outputs": [
    {
     "data": {
      "text/plain": [
       "[('Visiting', 'VBG'),\n",
       " ('aunts', 'NNS'),\n",
       " ('can', 'MD'),\n",
       " ('be', 'VB'),\n",
       " ('a', 'DT'),\n",
       " ('nuisance', 'NN')]"
      ]
     },
     "execution_count": 41,
     "metadata": {},
     "output_type": "execute_result"
    }
   ],
   "source": [
    "text14 = nltk.word_tokenize(\"Visiting aunts can be a nuisance\")\n",
    "nltk.pos_tag(text14)"
   ]
  },
  {
   "cell_type": "code",
   "execution_count": 42,
   "metadata": {},
   "outputs": [
    {
     "name": "stdout",
     "output_type": "stream",
     "text": [
      "(S (NP Alice) (VP (V loves) (NP Bob)))\n"
     ]
    }
   ],
   "source": [
    "# Parsing sentence structure\n",
    "text15 = nltk.word_tokenize(\"Alice loves Bob\")\n",
    "grammar = nltk.CFG.fromstring(\"\"\"\n",
    "S -> NP VP\n",
    "VP -> V NP\n",
    "NP -> 'Alice' | 'Bob'\n",
    "V -> 'loves'\n",
    "\"\"\")\n",
    "\n",
    "parser = nltk.ChartParser(grammar)\n",
    "trees = parser.parse_all(text15)\n",
    "for tree in trees:\n",
    "    print(tree)"
   ]
  },
  {
   "cell_type": "code",
   "execution_count": 43,
   "metadata": {},
   "outputs": [
    {
     "data": {
      "text/plain": [
       "<Grammar with 13 productions>"
      ]
     },
     "execution_count": 43,
     "metadata": {},
     "output_type": "execute_result"
    }
   ],
   "source": [
    "text16 = nltk.word_tokenize(\"I saw the man with a telescope\")\n",
    "grammar1 = nltk.data.load('mygrammar.cfg')\n",
    "grammar1"
   ]
  },
  {
   "cell_type": "code",
   "execution_count": 44,
   "metadata": {},
   "outputs": [
    {
     "name": "stdout",
     "output_type": "stream",
     "text": [
      "(S\n",
      "  (NP I)\n",
      "  (VP\n",
      "    (VP (V saw) (NP (Det the) (N man)))\n",
      "    (PP (P with) (NP (Det a) (N telescope)))))\n",
      "(S\n",
      "  (NP I)\n",
      "  (VP\n",
      "    (V saw)\n",
      "    (NP (Det the) (N man) (PP (P with) (NP (Det a) (N telescope))))))\n"
     ]
    }
   ],
   "source": [
    "parser = nltk.ChartParser(grammar1)\n",
    "trees = parser.parse_all(text16)\n",
    "for tree in trees:\n",
    "    print(tree)"
   ]
  },
  {
   "cell_type": "code",
   "execution_count": 42,
   "metadata": {},
   "outputs": [
    {
     "name": "stdout",
     "output_type": "stream",
     "text": [
      "(S\n",
      "  (NP-SBJ\n",
      "    (NP (NNP Pierre) (NNP Vinken))\n",
      "    (, ,)\n",
      "    (ADJP (NP (CD 61) (NNS years)) (JJ old))\n",
      "    (, ,))\n",
      "  (VP\n",
      "    (MD will)\n",
      "    (VP\n",
      "      (VB join)\n",
      "      (NP (DT the) (NN board))\n",
      "      (PP-CLR (IN as) (NP (DT a) (JJ nonexecutive) (NN director)))\n",
      "      (NP-TMP (NNP Nov.) (CD 29))))\n",
      "  (. .))\n"
     ]
    }
   ],
   "source": [
    "from nltk.corpus import treebank\n",
    "text17 = treebank.parsed_sents('wsj_0001.mrg')[0]\n",
    "print(text17)"
   ]
  },
  {
   "cell_type": "markdown",
   "metadata": {},
   "source": [
    "### POS tagging and parsing ambiguity"
   ]
  },
  {
   "cell_type": "code",
   "execution_count": 45,
   "metadata": {},
   "outputs": [
    {
     "data": {
      "text/plain": [
       "[('The', 'DT'), ('old', 'JJ'), ('man', 'NN'), ('the', 'DT'), ('boat', 'NN')]"
      ]
     },
     "execution_count": 45,
     "metadata": {},
     "output_type": "execute_result"
    }
   ],
   "source": [
    "text18 = nltk.word_tokenize(\"The old man the boat\")\n",
    "nltk.pos_tag(text18)"
   ]
  },
  {
   "cell_type": "code",
   "execution_count": 46,
   "metadata": {},
   "outputs": [
    {
     "data": {
      "text/plain": [
       "[('Colorless', 'NNP'),\n",
       " ('green', 'JJ'),\n",
       " ('ideas', 'NNS'),\n",
       " ('sleep', 'VBP'),\n",
       " ('furiously', 'RB')]"
      ]
     },
     "execution_count": 46,
     "metadata": {},
     "output_type": "execute_result"
    }
   ],
   "source": [
    "text19 = nltk.word_tokenize(\"Colorless green ideas sleep furiously\")\n",
    "nltk.pos_tag(text19)"
   ]
  }
 ],
 "metadata": {
  "kernelspec": {
   "display_name": "Python 3",
   "language": "python",
   "name": "python3"
  },
  "language_info": {
   "codemirror_mode": {
    "name": "ipython",
    "version": 3
   },
   "file_extension": ".py",
   "mimetype": "text/x-python",
   "name": "python",
   "nbconvert_exporter": "python",
   "pygments_lexer": "ipython3",
   "version": "3.6.2"
  }
 },
 "nbformat": 4,
 "nbformat_minor": 2
}
